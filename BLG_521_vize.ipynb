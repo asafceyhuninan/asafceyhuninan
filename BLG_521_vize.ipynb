{
 "cells": [
  {
   "cell_type": "markdown",
   "metadata": {},
   "source": [
    "### BLG_521_vize \n",
    "### Öğrenci No : 20231562007 \n",
    "### Öğrenci Adı : Asaf Ceyhun İnan "
   ]
  },
  {
   "cell_type": "markdown",
   "metadata": {},
   "source": [
    "#### Soru 1:"
   ]
  },
  {
   "cell_type": "code",
   "execution_count": 108,
   "metadata": {},
   "outputs": [],
   "source": [
    "# a) \"Otel\" adında sınıf tanımlanması\n",
    "class Otel:\n",
    "    def __init__(self):\n",
    "        self.rezervasyonlar = {}\n",
    "# b) rezervasyon_ekle metodu oluşturulması\n",
    "    def rezervasyon_ekle(self, oda_no, musteri):\n",
    "        self.rezervasyonlar[oda_no] = musteri\n",
    "        return\n",
    "# c) rezervasyon_sil metodu oluşturulması\n",
    "    def rezervasyon_sil(self, oda_no):\n",
    "        if oda_no in self.rezervasyonlar:\n",
    "            del self.rezervasyonlar[oda_no]\n",
    "        else:\n",
    "            print(f'Bu oda numarasıyla rezervasyon bulunamadı')\n",
    "# d) rezervasyon_guncelle metodu oluşturulması\n",
    "    def rezervasyon_guncelle(self,oda_no, musteri):\n",
    "        if oda_no in self.rezervasyonlar:\n",
    "            self.rezervasyonlar[oda_no] = musteri\n",
    "        else:\n",
    "            print(f'Bu oda numarasıyla rezervasyon bulunamadı')"
   ]
  },
  {
   "cell_type": "code",
   "execution_count": 109,
   "metadata": {},
   "outputs": [],
   "source": [
    "# e) \"anayurt_oteli\" adında bir Otel nesnesi oluşturma\n",
    "anayurt_oteli = Otel()"
   ]
  },
  {
   "cell_type": "code",
   "execution_count": 110,
   "metadata": {},
   "outputs": [],
   "source": [
    "# f) müşterileri kaydetme\n",
    "anayurt_oteli.rezervasyon_ekle(101, 'Ahmet Hamdi')\n",
    "anayurt_oteli.rezervasyon_ekle(102, 'Ihsan Anar')\n",
    "anayurt_oteli.rezervasyon_ekle(103, 'Cemal Seber')\n",
    "anayurt_oteli.rezervasyon_ekle(104, 'Gulten Akin')\n",
    "anayurt_oteli.rezervasyon_ekle(105, 'Sezai Bey')"
   ]
  },
  {
   "cell_type": "code",
   "execution_count": 111,
   "metadata": {},
   "outputs": [
    {
     "data": {
      "text/plain": [
       "{101: 'Ahmet Hamdi',\n",
       " 102: 'Ihsan Anar',\n",
       " 103: 'Cemal Seber',\n",
       " 104: 'Gulten Akin',\n",
       " 105: 'Sezai Bey'}"
      ]
     },
     "execution_count": 111,
     "metadata": {},
     "output_type": "execute_result"
    }
   ],
   "source": [
    "# g) rezervasyonları sorgulama\n",
    "anayurt_oteli.rezervasyonlar"
   ]
  },
  {
   "cell_type": "code",
   "execution_count": 112,
   "metadata": {},
   "outputs": [],
   "source": [
    "# h) \"Sezai Bey\" adlı müşterinin adını düzenleme\n",
    "anayurt_oteli.rezervasyon_guncelle(105,'Sezai Birinci')"
   ]
  },
  {
   "cell_type": "code",
   "execution_count": 113,
   "metadata": {},
   "outputs": [
    {
     "data": {
      "text/plain": [
       "{101: 'Ahmet Hamdi',\n",
       " 102: 'Ihsan Anar',\n",
       " 103: 'Cemal Seber',\n",
       " 104: 'Gulten Akin',\n",
       " 105: 'Sezai Birinci'}"
      ]
     },
     "execution_count": 113,
     "metadata": {},
     "output_type": "execute_result"
    }
   ],
   "source": [
    "# Son kontrol. \n",
    "anayurt_oteli.rezervasyonlar"
   ]
  },
  {
   "cell_type": "markdown",
   "metadata": {},
   "source": [
    "#### Soru 2:"
   ]
  },
  {
   "cell_type": "code",
   "execution_count": 117,
   "metadata": {},
   "outputs": [],
   "source": [
    "# a) \"MüzikFestivali\" adında bir sınıf oluşturup set yapısı ile mükerrer kayıta izin verilmeyen yapı oluşturma\n",
    "class MüzikFestivali:\n",
    "    def __init__(self):\n",
    "        self.kullanılmış_biletler = set()\n",
    "# b) \"bilet kullan\" metodu tanımlanması\n",
    "    def bilet_kullan(self, bilet_numarası):\n",
    "        if bilet_numarası in self.kullanılmış_biletler:\n",
    "            print(f'Bu bilet numarası ile daha önce giriş yapılmıştır')\n",
    "        else:\n",
    "            self.kullanılmış_biletler.add(bilet_numarası)\n",
    "            print(f'Başarıyla kaydedilmiştir.')"
   ]
  },
  {
   "cell_type": "code",
   "execution_count": 118,
   "metadata": {},
   "outputs": [],
   "source": [
    "# c) \"festival_kontrol\" adında bir \"MüzikFestivali\" nesnesi oluşturma\n",
    "\n",
    "festival_kontrol = MüzikFestivali() "
   ]
  },
  {
   "cell_type": "code",
   "execution_count": 119,
   "metadata": {},
   "outputs": [
    {
     "name": "stdout",
     "output_type": "stream",
     "text": [
      "Başarıyla kaydedilmiştir.\n",
      "Başarıyla kaydedilmiştir.\n",
      "Başarıyla kaydedilmiştir.\n",
      "Bu bilet numarası ile daha önce giriş yapılmıştır\n",
      "Başarıyla kaydedilmiştir.\n",
      "Bu bilet numarası ile daha önce giriş yapılmıştır\n"
     ]
    }
   ],
   "source": [
    "# d) oluşturulan bilet kullan metodunun test edilmesi\n",
    "\n",
    "festival_kontrol.bilet_kullan(5010)\n",
    "festival_kontrol.bilet_kullan(5020)\n",
    "festival_kontrol.bilet_kullan(5030)\n",
    "festival_kontrol.bilet_kullan(5010) # ikinci giriş denemesi\n",
    "festival_kontrol.bilet_kullan(5040)\n",
    "festival_kontrol.bilet_kullan(5030) # ikinci giriş denemesi"
   ]
  },
  {
   "cell_type": "code",
   "execution_count": 120,
   "metadata": {},
   "outputs": [
    {
     "data": {
      "text/plain": [
       "{5010, 5020, 5030, 5040}"
      ]
     },
     "execution_count": 120,
     "metadata": {},
     "output_type": "execute_result"
    }
   ],
   "source": [
    "# e) Sisteminizdeki tüm bilet numaralarının sorgusu\n",
    "\n",
    "festival_kontrol.kullanılmış_biletler"
   ]
  },
  {
   "cell_type": "markdown",
   "metadata": {},
   "source": [
    "#### Soru 3:"
   ]
  },
  {
   "cell_type": "markdown",
   "metadata": {},
   "source": [
    "https://github.com/asafceyhuninan/asafceyhuninan"
   ]
  },
  {
   "cell_type": "markdown",
   "metadata": {},
   "source": [
    "#### Soru 4:"
   ]
  }
 ],
 "metadata": {
  "kernelspec": {
   "display_name": "Python 3",
   "language": "python",
   "name": "python3"
  },
  "language_info": {
   "codemirror_mode": {
    "name": "ipython",
    "version": 3
   },
   "file_extension": ".py",
   "mimetype": "text/x-python",
   "name": "python",
   "nbconvert_exporter": "python",
   "pygments_lexer": "ipython3",
   "version": "3.11.9"
  }
 },
 "nbformat": 4,
 "nbformat_minor": 2
}
